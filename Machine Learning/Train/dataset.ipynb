{
 "cells": [
  {
   "cell_type": "code",
   "execution_count": 63,
   "metadata": {},
   "outputs": [],
   "source": [
    "import pandas as pd \n",
    "from ast import literal_eval"
   ]
  },
  {
   "cell_type": "code",
   "execution_count": 64,
   "metadata": {},
   "outputs": [],
   "source": [
    "def create_df(df):\n",
    "  df = df[df['is_answerable'] == 1].copy()\n",
    "  df = df[df['questionText'].apply(lambda x:len(x.split()) < 30)]\n",
    "  df['review_snippets'] = df['review_snippets'].apply(lambda x: '    '.join(literal_eval(x)))  #4 spaces \n",
    "  df['answers'] = df['answers'].apply(lambda x: [text.get('answerText') for text in literal_eval(x)])\n",
    "  df = df[['questionText','review_snippets','answers']]\n",
    "  df.columns = ['Question','Context','Answer']\n",
    "  return df.explode('Answer').drop_duplicates('Context').reset_index(drop=True)\n"
   ]
  },
  {
   "cell_type": "code",
   "execution_count": null,
   "metadata": {},
   "outputs": [],
   "source": [
    "reviews = create_df(reviews)\n",
    "reviews['Type'] = 'reviews'"
   ]
  },
  {
   "cell_type": "code",
   "execution_count": null,
   "metadata": {},
   "outputs": [],
   "source": [
    "reviews =reviews.sample(frac=1).iloc[:10000]"
   ]
  },
  {
   "cell_type": "code",
   "execution_count": null,
   "metadata": {},
   "outputs": [],
   "source": [
    "dfs = []\n",
    "df = pd.read_csv('../Data/Q_and_A.csv')\n",
    "for i in range(1,12):\n",
    "    dfs.append(pd.read_csv(f'../Data/q_and_a ({i}).csv'))\n",
    "\n",
    "df = pd.concat(dfs + [df], ignore_index=True)[['Context','Question', 'Answer']].drop_duplicates(subset=['Context']).drop_duplicates(subset=['Question'])\n",
    "df['Type'] ='Synthetic'"
   ]
  },
  {
   "cell_type": "code",
   "execution_count": null,
   "metadata": {},
   "outputs": [],
   "source": [
    "import datasets\n",
    "from datasets import load_dataset\n"
   ]
  },
  {
   "cell_type": "code",
   "execution_count": 66,
   "metadata": {},
   "outputs": [
    {
     "name": "stderr",
     "output_type": "stream",
     "text": [
      "Found cached dataset duorc (/Users/weihern/.cache/huggingface/datasets/duorc/ParaphraseRC/1.0.0/7a96356b7615d573abcd03a9328292c38348547971989538a771c32089bff199)\n"
     ]
    },
    {
     "data": {
      "application/vnd.jupyter.widget-view+json": {
       "model_id": "44f248dbd40144e8a8be1d219ef0926a",
       "version_major": 2,
       "version_minor": 0
      },
      "text/plain": [
       "  0%|          | 0/3 [00:00<?, ?it/s]"
      ]
     },
     "metadata": {},
     "output_type": "display_data"
    }
   ],
   "source": [
    "dataset = load_dataset(\"duorc\",'ParaphraseRC')\n",
    "duorc = pd.concat([dataset['train'].to_pandas()] + [dataset['validation'].to_pandas()] + [dataset['test'].to_pandas()])\n",
    "duorc = duorc[~duorc['no_answer']][['plot','question','answers']]\n",
    "duorc['answers'] = duorc['answers'].apply(lambda x: x[0])\n",
    "duorc.columns = ['Context','Question','Answer']\n",
    "duorc = duorc.drop_duplicates(subset=['Context']).drop_duplicates(subset=['Question'])\n",
    "duorc['Type'] ='duorc'"
   ]
  },
  {
   "cell_type": "code",
   "execution_count": 67,
   "metadata": {},
   "outputs": [
    {
     "name": "stderr",
     "output_type": "stream",
     "text": [
      "Found cached dataset narrativeqa (/Users/weihern/.cache/huggingface/datasets/narrativeqa/default/0.0.0/daef7ccc51ec258bef464658d11751bb20f033da9b4c219fd84563b3a4af0422)\n"
     ]
    },
    {
     "data": {
      "application/vnd.jupyter.widget-view+json": {
       "model_id": "3868de05410e4dab97b8de46e6f7ccef",
       "version_major": 2,
       "version_minor": 0
      },
      "text/plain": [
       "  0%|          | 0/3 [00:00<?, ?it/s]"
      ]
     },
     "metadata": {},
     "output_type": "display_data"
    }
   ],
   "source": [
    "dataset = load_dataset(\"narrativeqa\")"
   ]
  },
  {
   "cell_type": "code",
   "execution_count": 68,
   "metadata": {},
   "outputs": [],
   "source": [
    "narrativeqa = pd.concat([dataset['train'].to_pandas()] + [dataset['validation'].to_pandas()] + [dataset['test'].to_pandas()])\n",
    "narrativeqa['document'] = narrativeqa['document'].apply(lambda x: x['summary']['text'])\n",
    "narrativeqa['question'] = narrativeqa['question'].apply(lambda x: x['text'])\n",
    "narrativeqa['answers'] = narrativeqa['answers'].apply(lambda x: x[0]['text'])\n",
    "narrativeqa.columns = ['Context','Question','Answer']\n",
    "narrativeqa = narrativeqa.drop_duplicates(subset=['Context']).drop_duplicates(subset=['Question'])\n",
    "narrativeqa['Type'] ='narrativeqa'"
   ]
  },
  {
   "cell_type": "code",
   "execution_count": 43,
   "metadata": {},
   "outputs": [],
   "source": [
    "import nltk"
   ]
  },
  {
   "cell_type": "code",
   "execution_count": 44,
   "metadata": {},
   "outputs": [
    {
     "data": {
      "text/plain": [
       "<AxesSubplot: >"
      ]
     },
     "execution_count": 44,
     "metadata": {},
     "output_type": "execute_result"
    },
    {
     "data": {
      "image/png": "[encoded data removed]",
      "text/plain": [
       "<Figure size 640x480 with 1 Axes>"
      ]
     },
     "metadata": {},
     "output_type": "display_data"
    }
   ],
   "source": [
    "duorc['Context'].apply(lambda x: len(nltk.tokenize.word_tokenize(x))).hist(bins = 100)"
   ]
  },
  {
   "cell_type": "code",
   "execution_count": 45,
   "metadata": {},
   "outputs": [
    {
     "data": {
      "text/plain": [
       "<AxesSubplot: >"
      ]
     },
     "execution_count": 45,
     "metadata": {},
     "output_type": "execute_result"
    },
    {
     "data": {
      "image/png": "[encoded data removed]",
      "text/plain": [
       "<Figure size 640x480 with 1 Axes>"
      ]
     },
     "metadata": {},
     "output_type": "display_data"
    }
   ],
   "source": [
    "narrativeqa['Context'].apply(lambda x: len(nltk.tokenize.word_tokenize(x))).hist(bins = 100)"
   ]
  },
  {
   "cell_type": "code",
   "execution_count": 46,
   "metadata": {},
   "outputs": [],
   "source": [
    "subjqa = pd.read_csv('../Data/subjqa.csv')\n",
    "subjqa.columns = ['Context','Question','Answer']\n",
    "subjqa = subjqa.drop_duplicates(subset=['Context']).drop_duplicates(subset=['Question'])\n",
    "subjqa['Type'] ='subjqa'"
   ]
  },
  {
   "cell_type": "code",
   "execution_count": 47,
   "metadata": {},
   "outputs": [],
   "source": [
    "ms_marco = pd.read_csv('../Data/ms_marco.csv')\n",
    "ms_marco['Type'] ='ms_marco'"
   ]
  },
  {
   "cell_type": "code",
   "execution_count": 48,
   "metadata": {},
   "outputs": [],
   "source": [
    "master = pd.concat([df,duorc,narrativeqa,subjqa,ms_marco,reviews], ignore_index=True).dropna()"
   ]
  },
  {
   "cell_type": "code",
   "execution_count": 49,
   "metadata": {},
   "outputs": [
    {
     "data": {
      "text/plain": [
       "Synthetic      12554\n",
       "ms_marco       10790\n",
       "reviews        10000\n",
       "duorc           6790\n",
       "subjqa          2750\n",
       "narrativeqa     1544\n",
       "Name: Type, dtype: int64"
      ]
     },
     "execution_count": 49,
     "metadata": {},
     "output_type": "execute_result"
    }
   ],
   "source": [
    "master['Type'].value_counts()"
   ]
  },
  {
   "cell_type": "code",
   "execution_count": 50,
   "metadata": {},
   "outputs": [],
   "source": [
    "from transformers import T5ForConditionalGeneration, T5Tokenizer, AdamW"
   ]
  },
  {
   "cell_type": "code",
   "execution_count": 51,
   "metadata": {},
   "outputs": [
    {
     "name": "stderr",
     "output_type": "stream",
     "text": [
      "/Users/weihern/opt/anaconda3/envs/ml/lib/python3.9/site-packages/transformers/models/t5/tokenization_t5.py:164: FutureWarning: This tokenizer was incorrectly instantiated with a model max length of 512 which will be corrected in Transformers v5.\n",
      "For now, this behavior is kept to avoid breaking backwards compatibility when padding/encoding with `truncation is True`.\n",
      "- Be aware that you SHOULD NOT rely on t5-large automatically truncating your input to 512 when padding/encoding.\n",
      "- If you want to encode/pad to sequences longer than 512 you can either instantiate this tokenizer with `model_max_length` or pass `max_length` when encoding/padding.\n",
      "- To avoid this warning, please instantiate this tokenizer with `model_max_length` set to your preferred value.\n",
      "  warnings.warn(\n"
     ]
    }
   ],
   "source": [
    "tokenizer = T5Tokenizer.from_pretrained('t5-large')"
   ]
  },
  {
   "cell_type": "code",
   "execution_count": 52,
   "metadata": {},
   "outputs": [],
   "source": [
    "from tqdm import tqdm"
   ]
  },
  {
   "cell_type": "code",
   "execution_count": 53,
   "metadata": {},
   "outputs": [
    {
     "name": "stderr",
     "output_type": "stream",
     "text": [
      " 14%|█▎        | 6032/44428 [00:02<00:16, 2332.48it/s]Token indices sequence length is longer than the specified maximum sequence length for this model (766 > 512). Running this sequence through the model will result in indexing errors\n",
      "100%|██████████| 44428/44428 [01:07<00:00, 658.71it/s] \n"
     ]
    }
   ],
   "source": [
    "token_lens = []\n",
    "for text in tqdm(master['Context']):\n",
    "    tokens = tokenizer(text).input_ids\n",
    "    token_lens.append(len(tokens))"
   ]
  },
  {
   "cell_type": "code",
   "execution_count": 54,
   "metadata": {},
   "outputs": [
    {
     "data": {
      "image/png": "[encoded data removed]",
      "text/plain": [
       "<Figure size 640x480 with 1 Axes>"
      ]
     },
     "metadata": {},
     "output_type": "display_data"
    }
   ],
   "source": [
    "r = reviews['Context'].apply(lambda x: len(nltk.tokenize.word_tokenize(x))).hist(bins = 100)"
   ]
  },
  {
   "cell_type": "code",
   "execution_count": null,
   "metadata": {},
   "outputs": [],
   "source": []
  },
  {
   "cell_type": "code",
   "execution_count": 55,
   "metadata": {},
   "outputs": [],
   "source": [
    "master['token_lens'] = token_lens"
   ]
  },
  {
   "cell_type": "code",
   "execution_count": 56,
   "metadata": {},
   "outputs": [],
   "source": [
    "master = master[master['token_lens'] < 512]"
   ]
  },
  {
   "cell_type": "code",
   "execution_count": 57,
   "metadata": {},
   "outputs": [],
   "source": [
    "from sklearn.model_selection import train_test_split"
   ]
  },
  {
   "cell_type": "code",
   "execution_count": 58,
   "metadata": {},
   "outputs": [],
   "source": [
    "train_df, test_df = train_test_split(master, test_size=0.2, random_state=42,stratify=master['Type'])"
   ]
  },
  {
   "cell_type": "code",
   "execution_count": 59,
   "metadata": {},
   "outputs": [],
   "source": [
    "test_df, val_df = train_test_split(test_df, test_size=0.5, random_state=42,stratify=test_df['Type'])"
   ]
  },
  {
   "cell_type": "code",
   "execution_count": 60,
   "metadata": {},
   "outputs": [],
   "source": [
    "def compile_datasets(df,name):\n",
    "    df.drop(['token_lens','Type'], axis = 1, inplace = True)\n",
    "    df.reset_index(inplace = True, drop = True)\n",
    "    df.to_csv(f'../Data/{name}.csv', index = False)\n",
    "    print(len(df))"
   ]
  },
  {
   "cell_type": "code",
   "execution_count": 61,
   "metadata": {},
   "outputs": [
    {
     "name": "stdout",
     "output_type": "stream",
     "text": [
      "22318\n",
      "2790\n",
      "2790\n"
     ]
    }
   ],
   "source": [
    "compile_datasets(train_df,'train')\n",
    "compile_datasets(test_df,'test')\n",
    "compile_datasets(val_df,'val')"
   ]
  },
  {
   "cell_type": "code",
   "execution_count": null,
   "metadata": {},
   "outputs": [],
   "source": []
  }
 ],
 "metadata": {
  "kernelspec": {
   "display_name": "ml",
   "language": "python",
   "name": "python3"
  },
  "language_info": {
   "codemirror_mode": {
    "name": "ipython",
    "version": 3
   },
   "file_extension": ".py",
   "mimetype": "text/x-python",
   "name": "python",
   "nbconvert_exporter": "python",
   "pygments_lexer": "ipython3",
   "version": "3.9.15"
  },
  "orig_nbformat": 4,
  "vscode": {
   "interpreter": {
    "hash": "6a82152883a9ae0824417df8eee29fc768be135be911d7c9b59fdda4f963266b"
   }
  }
 },
 "nbformat": 4,
 "nbformat_minor": 2
}
